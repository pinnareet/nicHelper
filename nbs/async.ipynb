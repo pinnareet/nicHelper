{
 "cells": [
  {
   "cell_type": "code",
   "execution_count": null,
   "metadata": {},
   "outputs": [],
   "source": [
    "#default_exp asyncUtil"
   ]
  },
  {
   "cell_type": "markdown",
   "metadata": {},
   "source": [
    "# async\n",
    "> tools to help writing async python codes"
   ]
  },
  {
   "cell_type": "code",
   "execution_count": null,
   "metadata": {},
   "outputs": [],
   "source": [
    "#hide\n",
    "from nbdev.showdoc import *"
   ]
  },
  {
   "cell_type": "markdown",
   "metadata": {},
   "source": [
    "# async wrap"
   ]
  },
  {
   "cell_type": "code",
   "execution_count": null,
   "metadata": {},
   "outputs": [],
   "source": [
    "#export\n",
    "import asyncio\n",
    "from functools import wraps, partial\n",
    "\n",
    "def async_wrap(func):\n",
    "    @wraps(func)\n",
    "    async def run(*args, loop=None, executor=None, **kwargs):\n",
    "        if loop is None:\n",
    "            loop = asyncio.get_running_loop()\n",
    "        pfunc = partial(func, *args, **kwargs)\n",
    "        return await loop.run_in_executor(executor, pfunc)\n",
    "    return run\n"
   ]
  },
  {
   "cell_type": "code",
   "execution_count": null,
   "metadata": {},
   "outputs": [
    {
     "name": "stdout",
     "output_type": "stream",
     "text": [
      "CPU times: user 2.78 ms, sys: 3.69 ms, total: 6.47 ms\n",
      "Wall time: 4.01 s\n"
     ]
    },
    {
     "data": {
      "text/plain": [
       "[0, 1, 2, 3, 4, 5, 6, 7, 8, 9]"
      ]
     },
     "execution_count": null,
     "metadata": {},
     "output_type": "execute_result"
    }
   ],
   "source": [
    "%%time\n",
    "@async_wrap\n",
    "def aSlowFunc(input_:str):\n",
    "  time.sleep(2)\n",
    "  return input_\n",
    "\n",
    "## async func execute\n",
    "import nest_asyncio, time\n",
    "nest_asyncio.apply()\n",
    "import time\n",
    "\n",
    "\n",
    "async def runASlowFunc(input_):\n",
    "  return await aSlowFunc(input_)\n",
    "async def runLoop():\n",
    "  rtup = (runASlowFunc(i) for i in range (10))\n",
    "  r = await asyncio.gather(*rtup)\n",
    "  return r\n",
    "asyncio.run(runLoop())"
   ]
  },
  {
   "cell_type": "code",
   "execution_count": null,
   "metadata": {},
   "outputs": [
    {
     "name": "stdout",
     "output_type": "stream",
     "text": [
      "hello\n"
     ]
    }
   ],
   "source": [
    "async def main():\n",
    "    await asyncio.sleep(1)\n",
    "    print('hello')\n",
    "\n",
    "asyncio.run(main())"
   ]
  },
  {
   "cell_type": "markdown",
   "metadata": {},
   "source": [
    "# thread mapping"
   ]
  },
  {
   "cell_type": "code",
   "execution_count": null,
   "metadata": {},
   "outputs": [],
   "source": [
    "#export\n",
    "import multiprocessing.dummy\n",
    "from typing import Callable, List, Any, Iterable\n",
    "from beartype import beartype\n",
    "@beartype\n",
    "def asyncMap(f:Callable, data:Iterable[Any], threads:int = 5)->Any:\n",
    "  p = multiprocessing.dummy.Pool(threads)\n",
    "  return p.map(f,data)"
   ]
  },
  {
   "cell_type": "code",
   "execution_count": null,
   "metadata": {},
   "outputs": [
    {
     "name": "stdout",
     "output_type": "stream",
     "text": [
      "CPU times: user 12.3 ms, sys: 8.86 ms, total: 21.1 ms\n",
      "Wall time: 1.03 s\n"
     ]
    },
    {
     "data": {
      "text/plain": [
       "[1, 2, 3, 4, 5, 6, 7, 8, 9, 10]"
      ]
     },
     "execution_count": null,
     "metadata": {},
     "output_type": "execute_result"
    }
   ],
   "source": [
    "%%time\n",
    "import time\n",
    "asyncMap(lambda x: (x+1, time.sleep(1))[0] , range(100), threads = 100)[:10]"
   ]
  },
  {
   "cell_type": "code",
   "execution_count": null,
   "metadata": {},
   "outputs": [],
   "source": [
    "def aSlowFunc(x):\n",
    "  time.sleep(1)\n",
    "  return x"
   ]
  },
  {
   "cell_type": "code",
   "execution_count": null,
   "metadata": {},
   "outputs": [
    {
     "name": "stdout",
     "output_type": "stream",
     "text": [
      "CPU times: user 7.04 ms, sys: 268 µs, total: 7.31 ms\n",
      "Wall time: 20 s\n"
     ]
    },
    {
     "data": {
      "text/plain": [
       "[0, 1, 2, 3, 4, 5, 6, 7, 8, 9]"
      ]
     },
     "execution_count": null,
     "metadata": {},
     "output_type": "execute_result"
    }
   ],
   "source": [
    "%%time\n",
    "asyncMap(aSlowFunc, range(100))[:10]"
   ]
  },
  {
   "cell_type": "code",
   "execution_count": null,
   "metadata": {},
   "outputs": [
    {
     "name": "stdout",
     "output_type": "stream",
     "text": [
      "[(0, 1), (1, 2), (2, 3), (3, 4), (4, 5), (5, 6), (6, 7), (7, 8), (8, 9), (9, 10)]\n"
     ]
    },
    {
     "data": {
      "text/plain": [
       "[1, 3, 5, 7, 9, 11, 13, 15, 17, 19]"
      ]
     },
     "execution_count": null,
     "metadata": {},
     "output_type": "execute_result"
    }
   ],
   "source": [
    "input_ = list(zip(range(10), range(1,11)))\n",
    "print(input_)\n",
    "asyncMap(lambda x: (lambda x,y: x+y )(x[0],x[1]), input_)"
   ]
  },
  {
   "cell_type": "markdown",
   "metadata": {},
   "source": [
    "# asyncAwaitMap"
   ]
  },
  {
   "cell_type": "code",
   "execution_count": null,
   "metadata": {},
   "outputs": [],
   "source": [
    "#export\n",
    "def asyncAwaitMap(f:Callable, data:Iterable[Any])->Any:\n",
    "  af = async_wrap(f) # convert to async func\n",
    "  async def runLoop():\n",
    "    rtup = (af(i) for i in data)\n",
    "    return await asyncio.gather(*rtup)\n",
    "  return asyncio.run(runLoop())"
   ]
  },
  {
   "cell_type": "code",
   "execution_count": null,
   "metadata": {},
   "outputs": [
    {
     "name": "stdout",
     "output_type": "stream",
     "text": [
      "CPU times: user 21 ms, sys: 4.2 ms, total: 25.2 ms\n",
      "Wall time: 17 s\n"
     ]
    },
    {
     "data": {
      "text/plain": [
       "[0, 1, 2, 3, 4, 5, 6, 7, 8, 9]"
      ]
     },
     "execution_count": null,
     "metadata": {},
     "output_type": "execute_result"
    }
   ],
   "source": [
    "%%time\n",
    "import nest_asyncio\n",
    "nest_asyncio.apply()\n",
    "asyncAwaitMap(aSlowFunc, range(100))[:10]"
   ]
  },
  {
   "cell_type": "code",
   "execution_count": null,
   "metadata": {},
   "outputs": [
    {
     "name": "stdout",
     "output_type": "stream",
     "text": [
      "[(0, 1), (1, 2), (2, 3), (3, 4), (4, 5), (5, 6), (6, 7), (7, 8), (8, 9), (9, 10)]\n"
     ]
    },
    {
     "data": {
      "text/plain": [
       "[1, 3, 5, 7, 9, 11, 13, 15, 17, 19]"
      ]
     },
     "execution_count": null,
     "metadata": {},
     "output_type": "execute_result"
    }
   ],
   "source": [
    "input_ = list(zip(range(10), range(1,11)))\n",
    "print(input_)\n",
    "asyncAwaitMap(lambda x: (lambda x,y: x+y )(x[0],x[1]), input_)"
   ]
  },
  {
   "cell_type": "markdown",
   "metadata": {},
   "source": [
    "# AsyncThread"
   ]
  },
  {
   "cell_type": "code",
   "execution_count": null,
   "metadata": {},
   "outputs": [],
   "source": [
    "#export\n",
    "from concurrent.futures import ThreadPoolExecutor\n",
    "def asyncThreadMap(f,data, threads=10):\n",
    "  with ThreadPoolExecutor(threads) as tr:\n",
    "    return tr.map(f,data)"
   ]
  },
  {
   "cell_type": "code",
   "execution_count": null,
   "metadata": {},
   "outputs": [
    {
     "name": "stdout",
     "output_type": "stream",
     "text": [
      "CPU times: user 9.18 ms, sys: 1.04 ms, total: 10.2 ms\n",
      "Wall time: 10 s\n"
     ]
    },
    {
     "data": {
      "text/plain": [
       "[0, 1, 2, 3, 4, 5, 6, 7, 8, 9]"
      ]
     },
     "execution_count": null,
     "metadata": {},
     "output_type": "execute_result"
    }
   ],
   "source": [
    "%%time\n",
    "def aSlowFunc(x):\n",
    "  time.sleep(1)\n",
    "  return x\n",
    "\n",
    "list(asyncThreadMap(aSlowFunc, range(100)))[:10]"
   ]
  },
  {
   "cell_type": "markdown",
   "metadata": {},
   "source": [
    "# AsyncProcess map"
   ]
  },
  {
   "cell_type": "code",
   "execution_count": null,
   "metadata": {},
   "outputs": [],
   "source": [
    "#export\n",
    "from concurrent.futures import ProcessPoolExecutor\n",
    "def asyncProcessMap(f,data, threads=10):\n",
    "  with ProcessPoolExecutor(threads) as tr:\n",
    "    return tr.map(f,data)"
   ]
  },
  {
   "cell_type": "code",
   "execution_count": null,
   "metadata": {},
   "outputs": [
    {
     "name": "stdout",
     "output_type": "stream",
     "text": [
      "CPU times: user 24.6 ms, sys: 50.9 ms, total: 75.6 ms\n",
      "Wall time: 10.1 s\n"
     ]
    },
    {
     "data": {
      "text/plain": [
       "[0, 1, 2, 3, 4, 5, 6, 7, 8, 9]"
      ]
     },
     "execution_count": null,
     "metadata": {},
     "output_type": "execute_result"
    }
   ],
   "source": [
    "%%time\n",
    "def aSlowFunc(x):\n",
    "  time.sleep(1)\n",
    "  return x\n",
    "\n",
    "list(asyncProcessMap(aSlowFunc, range(100)))[:10]"
   ]
  },
  {
   "cell_type": "code",
   "execution_count": null,
   "metadata": {},
   "outputs": [],
   "source": []
  }
 ],
 "metadata": {
  "kernelspec": {
   "display_name": "python38",
   "language": "python",
   "name": "python38"
  }
 },
 "nbformat": 4,
 "nbformat_minor": 4
}
